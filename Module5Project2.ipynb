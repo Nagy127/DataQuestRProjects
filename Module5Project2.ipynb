{
  "nbformat": 4,
  "nbformat_minor": 0,
  "metadata": {
    "colab": {
      "provenance": [],
      "authorship_tag": "ABX9TyNLv+PFhFyaqBlT8ZAJGeSx"
    },
    "kernelspec": {
      "name": "ir",
      "display_name": "R"
    },
    "language_info": {
      "name": "R"
    }
  },
  "cells": [
    {
      "cell_type": "markdown",
      "source": [
        "## Analyzing Movie Ratings"
      ],
      "metadata": {
        "id": "FmZUJ05kvaBn"
      }
    },
    {
      "cell_type": "markdown",
      "source": [
        "This is the first R project in part 5 of the Data quest R course. The main goal of this project is we to extract data from the top 30 movies between March and July 2020, by extracting various details, including a movie's title, description, actors, director, genre, runtime, and ratings.\n",
        "\n",
        "Then, check whether ratings correlate to user votes. For instance, do the highest-rated movies also have the highest user vote scores?"
      ],
      "metadata": {
        "id": "C2Vjli8GzzPe"
      }
    },
    {
      "cell_type": "code",
      "execution_count": null,
      "metadata": {
        "id": "W6KMOc6D-il2"
      },
      "outputs": [],
      "source": [
        "# loading the needed libraries and loading the webpage\n",
        "library(rvest)\n",
        "library(dplyr)\n",
        "library(ggplot2)\n",
        "\n",
        "url <- \"http://dataquestio.github.io/web-scraping-pages/IMDb-DQgp.html\"\n",
        "wp_content <- read_html(url)"
      ]
    },
    {
      "cell_type": "code",
      "source": [
        "# Extracting the movie titles\n",
        "titles <- wp_content %>%\n",
        "  html_nodes(\".lister-item-header a\") %>%\n",
        "  html_text()\n",
        "titles"
      ],
      "metadata": {
        "colab": {
          "base_uri": "https://localhost:8080/",
          "height": 69
        },
        "id": "nCqUImChBgBT",
        "outputId": "25c48543-b44c-414e-f3ab-0edf2e04b706"
      },
      "execution_count": null,
      "outputs": [
        {
          "output_type": "display_data",
          "data": {
            "text/html": [
              "<style>\n",
              ".list-inline {list-style: none; margin:0; padding: 0}\n",
              ".list-inline>li {display: inline-block}\n",
              ".list-inline>li:not(:last-child)::after {content: \"\\00b7\"; padding: 0 .5ex}\n",
              "</style>\n",
              "<ol class=list-inline><li>'Mulan'</li><li>'The Call'</li><li>'Greenland'</li><li>'Don\\'t Listen'</li><li>'Unhinged'</li><li>'Ava'</li><li>'The Hunt'</li><li>'Ghosts of War'</li><li>'Hamilton'</li><li>'The Old Guard'</li><li>'The Secret: Dare to Dream'</li><li>'The Outpost'</li><li>'Extraction'</li><li>'Train to Busan Presents: Peninsula'</li><li>'Greyhound'</li><li>'The King of Staten Island'</li><li>'A Quiet Place Part II'</li><li>'Bloodshot'</li><li>'The Dark and the Wicked'</li><li>'Arkansas'</li><li>'The Rental'</li><li>'Trolls World Tour'</li><li>'Sputnik'</li><li>'Eurovision Song Contest: The Story of Fire Saga'</li><li>'Inheritance'</li><li>'Spenser Confidential'</li><li>'The Tax Collector'</li><li>'The Way Back'</li><li>'The Silencing'</li><li>'Archive'</li></ol>\n"
            ],
            "text/markdown": "1. 'Mulan'\n2. 'The Call'\n3. 'Greenland'\n4. 'Don\\'t Listen'\n5. 'Unhinged'\n6. 'Ava'\n7. 'The Hunt'\n8. 'Ghosts of War'\n9. 'Hamilton'\n10. 'The Old Guard'\n11. 'The Secret: Dare to Dream'\n12. 'The Outpost'\n13. 'Extraction'\n14. 'Train to Busan Presents: Peninsula'\n15. 'Greyhound'\n16. 'The King of Staten Island'\n17. 'A Quiet Place Part II'\n18. 'Bloodshot'\n19. 'The Dark and the Wicked'\n20. 'Arkansas'\n21. 'The Rental'\n22. 'Trolls World Tour'\n23. 'Sputnik'\n24. 'Eurovision Song Contest: The Story of Fire Saga'\n25. 'Inheritance'\n26. 'Spenser Confidential'\n27. 'The Tax Collector'\n28. 'The Way Back'\n29. 'The Silencing'\n30. 'Archive'\n\n\n",
            "text/latex": "\\begin{enumerate*}\n\\item 'Mulan'\n\\item 'The Call'\n\\item 'Greenland'\n\\item 'Don\\textbackslash{}'t Listen'\n\\item 'Unhinged'\n\\item 'Ava'\n\\item 'The Hunt'\n\\item 'Ghosts of War'\n\\item 'Hamilton'\n\\item 'The Old Guard'\n\\item 'The Secret: Dare to Dream'\n\\item 'The Outpost'\n\\item 'Extraction'\n\\item 'Train to Busan Presents: Peninsula'\n\\item 'Greyhound'\n\\item 'The King of Staten Island'\n\\item 'A Quiet Place Part II'\n\\item 'Bloodshot'\n\\item 'The Dark and the Wicked'\n\\item 'Arkansas'\n\\item 'The Rental'\n\\item 'Trolls World Tour'\n\\item 'Sputnik'\n\\item 'Eurovision Song Contest: The Story of Fire Saga'\n\\item 'Inheritance'\n\\item 'Spenser Confidential'\n\\item 'The Tax Collector'\n\\item 'The Way Back'\n\\item 'The Silencing'\n\\item 'Archive'\n\\end{enumerate*}\n",
            "text/plain": [
              " [1] \"Mulan\"                                          \n",
              " [2] \"The Call\"                                       \n",
              " [3] \"Greenland\"                                      \n",
              " [4] \"Don't Listen\"                                   \n",
              " [5] \"Unhinged\"                                       \n",
              " [6] \"Ava\"                                            \n",
              " [7] \"The Hunt\"                                       \n",
              " [8] \"Ghosts of War\"                                  \n",
              " [9] \"Hamilton\"                                       \n",
              "[10] \"The Old Guard\"                                  \n",
              "[11] \"The Secret: Dare to Dream\"                      \n",
              "[12] \"The Outpost\"                                    \n",
              "[13] \"Extraction\"                                     \n",
              "[14] \"Train to Busan Presents: Peninsula\"             \n",
              "[15] \"Greyhound\"                                      \n",
              "[16] \"The King of Staten Island\"                      \n",
              "[17] \"A Quiet Place Part II\"                          \n",
              "[18] \"Bloodshot\"                                      \n",
              "[19] \"The Dark and the Wicked\"                        \n",
              "[20] \"Arkansas\"                                       \n",
              "[21] \"The Rental\"                                     \n",
              "[22] \"Trolls World Tour\"                              \n",
              "[23] \"Sputnik\"                                        \n",
              "[24] \"Eurovision Song Contest: The Story of Fire Saga\"\n",
              "[25] \"Inheritance\"                                    \n",
              "[26] \"Spenser Confidential\"                           \n",
              "[27] \"The Tax Collector\"                              \n",
              "[28] \"The Way Back\"                                   \n",
              "[29] \"The Silencing\"                                  \n",
              "[30] \"Archive\"                                        "
            ]
          },
          "metadata": {}
        }
      ]
    },
    {
      "cell_type": "code",
      "source": [
        "# Extracting the movie years\n",
        "years <- wp_content %>%\n",
        "  html_nodes(\".lister-item-year\") %>%\n",
        "  html_text()\n",
        "years"
      ],
      "metadata": {
        "colab": {
          "base_uri": "https://localhost:8080/",
          "height": 52
        },
        "id": "vxgMLoiNDgK-",
        "outputId": "8d74da8e-f0a9-4f49-8090-91603d37b1a1"
      },
      "execution_count": null,
      "outputs": [
        {
          "output_type": "display_data",
          "data": {
            "text/html": [
              "<style>\n",
              ".list-inline {list-style: none; margin:0; padding: 0}\n",
              ".list-inline>li {display: inline-block}\n",
              ".list-inline>li:not(:last-child)::after {content: \"\\00b7\"; padding: 0 .5ex}\n",
              "</style>\n",
              "<ol class=list-inline><li>'(2020)'</li><li>'(2020)'</li><li>'(2020)'</li><li>'(2020)'</li><li>'(2020)'</li><li>'(IV) (2020)'</li><li>'(II) (2020)'</li><li>'(2020)'</li><li>'(2020)'</li><li>'(2020)'</li><li>'(2020)'</li><li>'(2020)'</li><li>'(2020)'</li><li>'(2020)'</li><li>'(2020)'</li><li>'(2020)'</li><li>'(2020)'</li><li>'(2020)'</li><li>'(2020)'</li><li>'(2020)'</li><li>'(2020)'</li><li>'(2020)'</li><li>'(2020)'</li><li>'(2020)'</li><li>'(I) (2020)'</li><li>'(2020)'</li><li>'(2020)'</li><li>'(2020)'</li><li>'(2020)'</li><li>'(2020)'</li></ol>\n"
            ],
            "text/markdown": "1. '(2020)'\n2. '(2020)'\n3. '(2020)'\n4. '(2020)'\n5. '(2020)'\n6. '(IV) (2020)'\n7. '(II) (2020)'\n8. '(2020)'\n9. '(2020)'\n10. '(2020)'\n11. '(2020)'\n12. '(2020)'\n13. '(2020)'\n14. '(2020)'\n15. '(2020)'\n16. '(2020)'\n17. '(2020)'\n18. '(2020)'\n19. '(2020)'\n20. '(2020)'\n21. '(2020)'\n22. '(2020)'\n23. '(2020)'\n24. '(2020)'\n25. '(I) (2020)'\n26. '(2020)'\n27. '(2020)'\n28. '(2020)'\n29. '(2020)'\n30. '(2020)'\n\n\n",
            "text/latex": "\\begin{enumerate*}\n\\item '(2020)'\n\\item '(2020)'\n\\item '(2020)'\n\\item '(2020)'\n\\item '(2020)'\n\\item '(IV) (2020)'\n\\item '(II) (2020)'\n\\item '(2020)'\n\\item '(2020)'\n\\item '(2020)'\n\\item '(2020)'\n\\item '(2020)'\n\\item '(2020)'\n\\item '(2020)'\n\\item '(2020)'\n\\item '(2020)'\n\\item '(2020)'\n\\item '(2020)'\n\\item '(2020)'\n\\item '(2020)'\n\\item '(2020)'\n\\item '(2020)'\n\\item '(2020)'\n\\item '(2020)'\n\\item '(I) (2020)'\n\\item '(2020)'\n\\item '(2020)'\n\\item '(2020)'\n\\item '(2020)'\n\\item '(2020)'\n\\end{enumerate*}\n",
            "text/plain": [
              " [1] \"(2020)\"      \"(2020)\"      \"(2020)\"      \"(2020)\"      \"(2020)\"     \n",
              " [6] \"(IV) (2020)\" \"(II) (2020)\" \"(2020)\"      \"(2020)\"      \"(2020)\"     \n",
              "[11] \"(2020)\"      \"(2020)\"      \"(2020)\"      \"(2020)\"      \"(2020)\"     \n",
              "[16] \"(2020)\"      \"(2020)\"      \"(2020)\"      \"(2020)\"      \"(2020)\"     \n",
              "[21] \"(2020)\"      \"(2020)\"      \"(2020)\"      \"(2020)\"      \"(I) (2020)\" \n",
              "[26] \"(2020)\"      \"(2020)\"      \"(2020)\"      \"(2020)\"      \"(2020)\"     "
            ]
          },
          "metadata": {}
        }
      ]
    },
    {
      "cell_type": "code",
      "source": [
        "# Converting the years from character to numeric data type\n",
        "years <- readr::parse_number(years)\n",
        "years"
      ],
      "metadata": {
        "colab": {
          "base_uri": "https://localhost:8080/",
          "height": 34
        },
        "id": "xGzNsNrBDuiv",
        "outputId": "0a4f8124-acce-4a67-a815-c8749e9e6b40"
      },
      "execution_count": null,
      "outputs": [
        {
          "output_type": "display_data",
          "data": {
            "text/html": [
              "<style>\n",
              ".list-inline {list-style: none; margin:0; padding: 0}\n",
              ".list-inline>li {display: inline-block}\n",
              ".list-inline>li:not(:last-child)::after {content: \"\\00b7\"; padding: 0 .5ex}\n",
              "</style>\n",
              "<ol class=list-inline><li>2020</li><li>2020</li><li>2020</li><li>2020</li><li>2020</li><li>2020</li><li>2020</li><li>2020</li><li>2020</li><li>2020</li><li>2020</li><li>2020</li><li>2020</li><li>2020</li><li>2020</li><li>2020</li><li>2020</li><li>2020</li><li>2020</li><li>2020</li><li>2020</li><li>2020</li><li>2020</li><li>2020</li><li>2020</li><li>2020</li><li>2020</li><li>2020</li><li>2020</li><li>2020</li></ol>\n"
            ],
            "text/markdown": "1. 2020\n2. 2020\n3. 2020\n4. 2020\n5. 2020\n6. 2020\n7. 2020\n8. 2020\n9. 2020\n10. 2020\n11. 2020\n12. 2020\n13. 2020\n14. 2020\n15. 2020\n16. 2020\n17. 2020\n18. 2020\n19. 2020\n20. 2020\n21. 2020\n22. 2020\n23. 2020\n24. 2020\n25. 2020\n26. 2020\n27. 2020\n28. 2020\n29. 2020\n30. 2020\n\n\n",
            "text/latex": "\\begin{enumerate*}\n\\item 2020\n\\item 2020\n\\item 2020\n\\item 2020\n\\item 2020\n\\item 2020\n\\item 2020\n\\item 2020\n\\item 2020\n\\item 2020\n\\item 2020\n\\item 2020\n\\item 2020\n\\item 2020\n\\item 2020\n\\item 2020\n\\item 2020\n\\item 2020\n\\item 2020\n\\item 2020\n\\item 2020\n\\item 2020\n\\item 2020\n\\item 2020\n\\item 2020\n\\item 2020\n\\item 2020\n\\item 2020\n\\item 2020\n\\item 2020\n\\end{enumerate*}\n",
            "text/plain": [
              " [1] 2020 2020 2020 2020 2020 2020 2020 2020 2020 2020 2020 2020 2020 2020 2020\n",
              "[16] 2020 2020 2020 2020 2020 2020 2020 2020 2020 2020 2020 2020 2020 2020 2020"
            ]
          },
          "metadata": {}
        }
      ]
    },
    {
      "cell_type": "code",
      "source": [
        "# Extracting the movie runtime\n",
        "runtimes <- wp_content %>%\n",
        "  html_nodes(\".text-muted .runtime\") %>% # if this is a problem simply do .runtime only\n",
        "  html_text()\n",
        "runtimes"
      ],
      "metadata": {
        "colab": {
          "base_uri": "https://localhost:8080/",
          "height": 52
        },
        "id": "fob9707GDw6V",
        "outputId": "605d81cd-c007-415b-ea90-7981c48c4c6d"
      },
      "execution_count": null,
      "outputs": [
        {
          "output_type": "display_data",
          "data": {
            "text/html": [
              "<style>\n",
              ".list-inline {list-style: none; margin:0; padding: 0}\n",
              ".list-inline>li {display: inline-block}\n",
              ".list-inline>li:not(:last-child)::after {content: \"\\00b7\"; padding: 0 .5ex}\n",
              "</style>\n",
              "<ol class=list-inline><li>'115 min'</li><li>'112 min'</li><li>'119 min'</li><li>'97 min'</li><li>'90 min'</li><li>'96 min'</li><li>'90 min'</li><li>'94 min'</li><li>'160 min'</li><li>'125 min'</li><li>'107 min'</li><li>'123 min'</li><li>'116 min'</li><li>'116 min'</li><li>'91 min'</li><li>'136 min'</li><li>'97 min'</li><li>'109 min'</li><li>'95 min'</li><li>'117 min'</li><li>'88 min'</li><li>'90 min'</li><li>'113 min'</li><li>'123 min'</li><li>'111 min'</li><li>'111 min'</li><li>'95 min'</li><li>'108 min'</li><li>'93 min'</li><li>'109 min'</li></ol>\n"
            ],
            "text/markdown": "1. '115 min'\n2. '112 min'\n3. '119 min'\n4. '97 min'\n5. '90 min'\n6. '96 min'\n7. '90 min'\n8. '94 min'\n9. '160 min'\n10. '125 min'\n11. '107 min'\n12. '123 min'\n13. '116 min'\n14. '116 min'\n15. '91 min'\n16. '136 min'\n17. '97 min'\n18. '109 min'\n19. '95 min'\n20. '117 min'\n21. '88 min'\n22. '90 min'\n23. '113 min'\n24. '123 min'\n25. '111 min'\n26. '111 min'\n27. '95 min'\n28. '108 min'\n29. '93 min'\n30. '109 min'\n\n\n",
            "text/latex": "\\begin{enumerate*}\n\\item '115 min'\n\\item '112 min'\n\\item '119 min'\n\\item '97 min'\n\\item '90 min'\n\\item '96 min'\n\\item '90 min'\n\\item '94 min'\n\\item '160 min'\n\\item '125 min'\n\\item '107 min'\n\\item '123 min'\n\\item '116 min'\n\\item '116 min'\n\\item '91 min'\n\\item '136 min'\n\\item '97 min'\n\\item '109 min'\n\\item '95 min'\n\\item '117 min'\n\\item '88 min'\n\\item '90 min'\n\\item '113 min'\n\\item '123 min'\n\\item '111 min'\n\\item '111 min'\n\\item '95 min'\n\\item '108 min'\n\\item '93 min'\n\\item '109 min'\n\\end{enumerate*}\n",
            "text/plain": [
              " [1] \"115 min\" \"112 min\" \"119 min\" \"97 min\"  \"90 min\"  \"96 min\"  \"90 min\" \n",
              " [8] \"94 min\"  \"160 min\" \"125 min\" \"107 min\" \"123 min\" \"116 min\" \"116 min\"\n",
              "[15] \"91 min\"  \"136 min\" \"97 min\"  \"109 min\" \"95 min\"  \"117 min\" \"88 min\" \n",
              "[22] \"90 min\"  \"113 min\" \"123 min\" \"111 min\" \"111 min\" \"95 min\"  \"108 min\"\n",
              "[29] \"93 min\"  \"109 min\""
            ]
          },
          "metadata": {}
        }
      ]
    },
    {
      "cell_type": "code",
      "source": [
        "# Converting the runtimes from character to numeric data type\n",
        "runtimes <- readr::parse_number(runtimes)\n",
        "runtimes"
      ],
      "metadata": {
        "colab": {
          "base_uri": "https://localhost:8080/",
          "height": 34
        },
        "id": "O3MuFyawDx2w",
        "outputId": "2cfe8e5a-b713-4f3a-ab2d-34393f8fb05f"
      },
      "execution_count": null,
      "outputs": [
        {
          "output_type": "display_data",
          "data": {
            "text/html": [
              "<style>\n",
              ".list-inline {list-style: none; margin:0; padding: 0}\n",
              ".list-inline>li {display: inline-block}\n",
              ".list-inline>li:not(:last-child)::after {content: \"\\00b7\"; padding: 0 .5ex}\n",
              "</style>\n",
              "<ol class=list-inline><li>115</li><li>112</li><li>119</li><li>97</li><li>90</li><li>96</li><li>90</li><li>94</li><li>160</li><li>125</li><li>107</li><li>123</li><li>116</li><li>116</li><li>91</li><li>136</li><li>97</li><li>109</li><li>95</li><li>117</li><li>88</li><li>90</li><li>113</li><li>123</li><li>111</li><li>111</li><li>95</li><li>108</li><li>93</li><li>109</li></ol>\n"
            ],
            "text/markdown": "1. 115\n2. 112\n3. 119\n4. 97\n5. 90\n6. 96\n7. 90\n8. 94\n9. 160\n10. 125\n11. 107\n12. 123\n13. 116\n14. 116\n15. 91\n16. 136\n17. 97\n18. 109\n19. 95\n20. 117\n21. 88\n22. 90\n23. 113\n24. 123\n25. 111\n26. 111\n27. 95\n28. 108\n29. 93\n30. 109\n\n\n",
            "text/latex": "\\begin{enumerate*}\n\\item 115\n\\item 112\n\\item 119\n\\item 97\n\\item 90\n\\item 96\n\\item 90\n\\item 94\n\\item 160\n\\item 125\n\\item 107\n\\item 123\n\\item 116\n\\item 116\n\\item 91\n\\item 136\n\\item 97\n\\item 109\n\\item 95\n\\item 117\n\\item 88\n\\item 90\n\\item 113\n\\item 123\n\\item 111\n\\item 111\n\\item 95\n\\item 108\n\\item 93\n\\item 109\n\\end{enumerate*}\n",
            "text/plain": [
              " [1] 115 112 119  97  90  96  90  94 160 125 107 123 116 116  91 136  97 109  95\n",
              "[20] 117  88  90 113 123 111 111  95 108  93 109"
            ]
          },
          "metadata": {}
        }
      ]
    },
    {
      "cell_type": "code",
      "source": [
        "# Extracting the movie genre\n",
        "genres <- wp_content %>%\n",
        "  html_nodes(\".text-muted .genre\") %>%\n",
        "  html_text()\n",
        "genres"
      ],
      "metadata": {
        "colab": {
          "base_uri": "https://localhost:8080/",
          "height": 104
        },
        "id": "j7WL8z84Dx0e",
        "outputId": "67dcf915-479b-4f28-c19e-00fb5564df35"
      },
      "execution_count": null,
      "outputs": [
        {
          "output_type": "display_data",
          "data": {
            "text/html": [
              "<style>\n",
              ".list-inline {list-style: none; margin:0; padding: 0}\n",
              ".list-inline>li {display: inline-block}\n",
              ".list-inline>li:not(:last-child)::after {content: \"\\00b7\"; padding: 0 .5ex}\n",
              "</style>\n",
              "<ol class=list-inline><li><span style=white-space:pre-wrap>'\\nAction, Adventure, Drama            '</span></li><li><span style=white-space:pre-wrap>'\\nHorror, Mystery, Thriller            '</span></li><li><span style=white-space:pre-wrap>'\\nAction, Drama, Thriller            '</span></li><li><span style=white-space:pre-wrap>'\\nDrama, Horror, Thriller            '</span></li><li><span style=white-space:pre-wrap>'\\nAction, Thriller            '</span></li><li><span style=white-space:pre-wrap>'\\nAction, Crime, Drama            '</span></li><li><span style=white-space:pre-wrap>'\\nAction, Horror, Thriller            '</span></li><li><span style=white-space:pre-wrap>'\\nHorror, Thriller, War            '</span></li><li><span style=white-space:pre-wrap>'\\nBiography, Drama, History            '</span></li><li><span style=white-space:pre-wrap>'\\nAction, Adventure, Fantasy            '</span></li><li><span style=white-space:pre-wrap>'\\nDrama, Romance            '</span></li><li><span style=white-space:pre-wrap>'\\nAction, Drama, History            '</span></li><li><span style=white-space:pre-wrap>'\\nAction, Thriller            '</span></li><li><span style=white-space:pre-wrap>'\\nAction, Horror, Thriller            '</span></li><li><span style=white-space:pre-wrap>'\\nAction, Drama, History            '</span></li><li><span style=white-space:pre-wrap>'\\nComedy, Drama            '</span></li><li><span style=white-space:pre-wrap>'\\nDrama, Horror, Sci-Fi            '</span></li><li><span style=white-space:pre-wrap>'\\nAction, Drama, Sci-Fi            '</span></li><li><span style=white-space:pre-wrap>'\\nHorror            '</span></li><li><span style=white-space:pre-wrap>'\\nCrime, Drama, Thriller            '</span></li><li><span style=white-space:pre-wrap>'\\nHorror, Thriller            '</span></li><li><span style=white-space:pre-wrap>'\\nAnimation, Adventure, Comedy            '</span></li><li><span style=white-space:pre-wrap>'\\nDrama, Horror, Sci-Fi            '</span></li><li><span style=white-space:pre-wrap>'\\nComedy, Music            '</span></li><li><span style=white-space:pre-wrap>'\\nDrama, Mystery, Thriller            '</span></li><li><span style=white-space:pre-wrap>'\\nAction, Comedy, Crime            '</span></li><li><span style=white-space:pre-wrap>'\\nAction, Crime, Drama            '</span></li><li><span style=white-space:pre-wrap>'\\nDrama, Sport            '</span></li><li><span style=white-space:pre-wrap>'\\nAction, Crime, Thriller            '</span></li><li><span style=white-space:pre-wrap>'\\nDrama, Sci-Fi, Thriller            '</span></li></ol>\n"
            ],
            "text/markdown": "1. <span style=white-space:pre-wrap>'\\nAction, Adventure, Drama            '</span>\n2. <span style=white-space:pre-wrap>'\\nHorror, Mystery, Thriller            '</span>\n3. <span style=white-space:pre-wrap>'\\nAction, Drama, Thriller            '</span>\n4. <span style=white-space:pre-wrap>'\\nDrama, Horror, Thriller            '</span>\n5. <span style=white-space:pre-wrap>'\\nAction, Thriller            '</span>\n6. <span style=white-space:pre-wrap>'\\nAction, Crime, Drama            '</span>\n7. <span style=white-space:pre-wrap>'\\nAction, Horror, Thriller            '</span>\n8. <span style=white-space:pre-wrap>'\\nHorror, Thriller, War            '</span>\n9. <span style=white-space:pre-wrap>'\\nBiography, Drama, History            '</span>\n10. <span style=white-space:pre-wrap>'\\nAction, Adventure, Fantasy            '</span>\n11. <span style=white-space:pre-wrap>'\\nDrama, Romance            '</span>\n12. <span style=white-space:pre-wrap>'\\nAction, Drama, History            '</span>\n13. <span style=white-space:pre-wrap>'\\nAction, Thriller            '</span>\n14. <span style=white-space:pre-wrap>'\\nAction, Horror, Thriller            '</span>\n15. <span style=white-space:pre-wrap>'\\nAction, Drama, History            '</span>\n16. <span style=white-space:pre-wrap>'\\nComedy, Drama            '</span>\n17. <span style=white-space:pre-wrap>'\\nDrama, Horror, Sci-Fi            '</span>\n18. <span style=white-space:pre-wrap>'\\nAction, Drama, Sci-Fi            '</span>\n19. <span style=white-space:pre-wrap>'\\nHorror            '</span>\n20. <span style=white-space:pre-wrap>'\\nCrime, Drama, Thriller            '</span>\n21. <span style=white-space:pre-wrap>'\\nHorror, Thriller            '</span>\n22. <span style=white-space:pre-wrap>'\\nAnimation, Adventure, Comedy            '</span>\n23. <span style=white-space:pre-wrap>'\\nDrama, Horror, Sci-Fi            '</span>\n24. <span style=white-space:pre-wrap>'\\nComedy, Music            '</span>\n25. <span style=white-space:pre-wrap>'\\nDrama, Mystery, Thriller            '</span>\n26. <span style=white-space:pre-wrap>'\\nAction, Comedy, Crime            '</span>\n27. <span style=white-space:pre-wrap>'\\nAction, Crime, Drama            '</span>\n28. <span style=white-space:pre-wrap>'\\nDrama, Sport            '</span>\n29. <span style=white-space:pre-wrap>'\\nAction, Crime, Thriller            '</span>\n30. <span style=white-space:pre-wrap>'\\nDrama, Sci-Fi, Thriller            '</span>\n\n\n",
            "text/latex": "\\begin{enumerate*}\n\\item '\\textbackslash{}nAction, Adventure, Drama            '\n\\item '\\textbackslash{}nHorror, Mystery, Thriller            '\n\\item '\\textbackslash{}nAction, Drama, Thriller            '\n\\item '\\textbackslash{}nDrama, Horror, Thriller            '\n\\item '\\textbackslash{}nAction, Thriller            '\n\\item '\\textbackslash{}nAction, Crime, Drama            '\n\\item '\\textbackslash{}nAction, Horror, Thriller            '\n\\item '\\textbackslash{}nHorror, Thriller, War            '\n\\item '\\textbackslash{}nBiography, Drama, History            '\n\\item '\\textbackslash{}nAction, Adventure, Fantasy            '\n\\item '\\textbackslash{}nDrama, Romance            '\n\\item '\\textbackslash{}nAction, Drama, History            '\n\\item '\\textbackslash{}nAction, Thriller            '\n\\item '\\textbackslash{}nAction, Horror, Thriller            '\n\\item '\\textbackslash{}nAction, Drama, History            '\n\\item '\\textbackslash{}nComedy, Drama            '\n\\item '\\textbackslash{}nDrama, Horror, Sci-Fi            '\n\\item '\\textbackslash{}nAction, Drama, Sci-Fi            '\n\\item '\\textbackslash{}nHorror            '\n\\item '\\textbackslash{}nCrime, Drama, Thriller            '\n\\item '\\textbackslash{}nHorror, Thriller            '\n\\item '\\textbackslash{}nAnimation, Adventure, Comedy            '\n\\item '\\textbackslash{}nDrama, Horror, Sci-Fi            '\n\\item '\\textbackslash{}nComedy, Music            '\n\\item '\\textbackslash{}nDrama, Mystery, Thriller            '\n\\item '\\textbackslash{}nAction, Comedy, Crime            '\n\\item '\\textbackslash{}nAction, Crime, Drama            '\n\\item '\\textbackslash{}nDrama, Sport            '\n\\item '\\textbackslash{}nAction, Crime, Thriller            '\n\\item '\\textbackslash{}nDrama, Sci-Fi, Thriller            '\n\\end{enumerate*}\n",
            "text/plain": [
              " [1] \"\\nAction, Adventure, Drama            \"    \n",
              " [2] \"\\nHorror, Mystery, Thriller            \"   \n",
              " [3] \"\\nAction, Drama, Thriller            \"     \n",
              " [4] \"\\nDrama, Horror, Thriller            \"     \n",
              " [5] \"\\nAction, Thriller            \"            \n",
              " [6] \"\\nAction, Crime, Drama            \"        \n",
              " [7] \"\\nAction, Horror, Thriller            \"    \n",
              " [8] \"\\nHorror, Thriller, War            \"       \n",
              " [9] \"\\nBiography, Drama, History            \"   \n",
              "[10] \"\\nAction, Adventure, Fantasy            \"  \n",
              "[11] \"\\nDrama, Romance            \"              \n",
              "[12] \"\\nAction, Drama, History            \"      \n",
              "[13] \"\\nAction, Thriller            \"            \n",
              "[14] \"\\nAction, Horror, Thriller            \"    \n",
              "[15] \"\\nAction, Drama, History            \"      \n",
              "[16] \"\\nComedy, Drama            \"               \n",
              "[17] \"\\nDrama, Horror, Sci-Fi            \"       \n",
              "[18] \"\\nAction, Drama, Sci-Fi            \"       \n",
              "[19] \"\\nHorror            \"                      \n",
              "[20] \"\\nCrime, Drama, Thriller            \"      \n",
              "[21] \"\\nHorror, Thriller            \"            \n",
              "[22] \"\\nAnimation, Adventure, Comedy            \"\n",
              "[23] \"\\nDrama, Horror, Sci-Fi            \"       \n",
              "[24] \"\\nComedy, Music            \"               \n",
              "[25] \"\\nDrama, Mystery, Thriller            \"    \n",
              "[26] \"\\nAction, Comedy, Crime            \"       \n",
              "[27] \"\\nAction, Crime, Drama            \"        \n",
              "[28] \"\\nDrama, Sport            \"                \n",
              "[29] \"\\nAction, Crime, Thriller            \"     \n",
              "[30] \"\\nDrama, Sci-Fi, Thriller            \"     "
            ]
          },
          "metadata": {}
        }
      ]
    },
    {
      "cell_type": "code",
      "source": [
        "# Removing whitespaces at the end of genre characters\n",
        "genres <- stringr::str_trim(genres)\n",
        "genres"
      ],
      "metadata": {
        "colab": {
          "base_uri": "https://localhost:8080/",
          "height": 86
        },
        "id": "bD5ckreuDxyG",
        "outputId": "a5663026-54be-4efb-a37c-af63c6b75a34"
      },
      "execution_count": null,
      "outputs": [
        {
          "output_type": "display_data",
          "data": {
            "text/html": [
              "<style>\n",
              ".list-inline {list-style: none; margin:0; padding: 0}\n",
              ".list-inline>li {display: inline-block}\n",
              ".list-inline>li:not(:last-child)::after {content: \"\\00b7\"; padding: 0 .5ex}\n",
              "</style>\n",
              "<ol class=list-inline><li>'Action, Adventure, Drama'</li><li>'Horror, Mystery, Thriller'</li><li>'Action, Drama, Thriller'</li><li>'Drama, Horror, Thriller'</li><li>'Action, Thriller'</li><li>'Action, Crime, Drama'</li><li>'Action, Horror, Thriller'</li><li>'Horror, Thriller, War'</li><li>'Biography, Drama, History'</li><li>'Action, Adventure, Fantasy'</li><li>'Drama, Romance'</li><li>'Action, Drama, History'</li><li>'Action, Thriller'</li><li>'Action, Horror, Thriller'</li><li>'Action, Drama, History'</li><li>'Comedy, Drama'</li><li>'Drama, Horror, Sci-Fi'</li><li>'Action, Drama, Sci-Fi'</li><li>'Horror'</li><li>'Crime, Drama, Thriller'</li><li>'Horror, Thriller'</li><li>'Animation, Adventure, Comedy'</li><li>'Drama, Horror, Sci-Fi'</li><li>'Comedy, Music'</li><li>'Drama, Mystery, Thriller'</li><li>'Action, Comedy, Crime'</li><li>'Action, Crime, Drama'</li><li>'Drama, Sport'</li><li>'Action, Crime, Thriller'</li><li>'Drama, Sci-Fi, Thriller'</li></ol>\n"
            ],
            "text/markdown": "1. 'Action, Adventure, Drama'\n2. 'Horror, Mystery, Thriller'\n3. 'Action, Drama, Thriller'\n4. 'Drama, Horror, Thriller'\n5. 'Action, Thriller'\n6. 'Action, Crime, Drama'\n7. 'Action, Horror, Thriller'\n8. 'Horror, Thriller, War'\n9. 'Biography, Drama, History'\n10. 'Action, Adventure, Fantasy'\n11. 'Drama, Romance'\n12. 'Action, Drama, History'\n13. 'Action, Thriller'\n14. 'Action, Horror, Thriller'\n15. 'Action, Drama, History'\n16. 'Comedy, Drama'\n17. 'Drama, Horror, Sci-Fi'\n18. 'Action, Drama, Sci-Fi'\n19. 'Horror'\n20. 'Crime, Drama, Thriller'\n21. 'Horror, Thriller'\n22. 'Animation, Adventure, Comedy'\n23. 'Drama, Horror, Sci-Fi'\n24. 'Comedy, Music'\n25. 'Drama, Mystery, Thriller'\n26. 'Action, Comedy, Crime'\n27. 'Action, Crime, Drama'\n28. 'Drama, Sport'\n29. 'Action, Crime, Thriller'\n30. 'Drama, Sci-Fi, Thriller'\n\n\n",
            "text/latex": "\\begin{enumerate*}\n\\item 'Action, Adventure, Drama'\n\\item 'Horror, Mystery, Thriller'\n\\item 'Action, Drama, Thriller'\n\\item 'Drama, Horror, Thriller'\n\\item 'Action, Thriller'\n\\item 'Action, Crime, Drama'\n\\item 'Action, Horror, Thriller'\n\\item 'Horror, Thriller, War'\n\\item 'Biography, Drama, History'\n\\item 'Action, Adventure, Fantasy'\n\\item 'Drama, Romance'\n\\item 'Action, Drama, History'\n\\item 'Action, Thriller'\n\\item 'Action, Horror, Thriller'\n\\item 'Action, Drama, History'\n\\item 'Comedy, Drama'\n\\item 'Drama, Horror, Sci-Fi'\n\\item 'Action, Drama, Sci-Fi'\n\\item 'Horror'\n\\item 'Crime, Drama, Thriller'\n\\item 'Horror, Thriller'\n\\item 'Animation, Adventure, Comedy'\n\\item 'Drama, Horror, Sci-Fi'\n\\item 'Comedy, Music'\n\\item 'Drama, Mystery, Thriller'\n\\item 'Action, Comedy, Crime'\n\\item 'Action, Crime, Drama'\n\\item 'Drama, Sport'\n\\item 'Action, Crime, Thriller'\n\\item 'Drama, Sci-Fi, Thriller'\n\\end{enumerate*}\n",
            "text/plain": [
              " [1] \"Action, Adventure, Drama\"     \"Horror, Mystery, Thriller\"   \n",
              " [3] \"Action, Drama, Thriller\"      \"Drama, Horror, Thriller\"     \n",
              " [5] \"Action, Thriller\"             \"Action, Crime, Drama\"        \n",
              " [7] \"Action, Horror, Thriller\"     \"Horror, Thriller, War\"       \n",
              " [9] \"Biography, Drama, History\"    \"Action, Adventure, Fantasy\"  \n",
              "[11] \"Drama, Romance\"               \"Action, Drama, History\"      \n",
              "[13] \"Action, Thriller\"             \"Action, Horror, Thriller\"    \n",
              "[15] \"Action, Drama, History\"       \"Comedy, Drama\"               \n",
              "[17] \"Drama, Horror, Sci-Fi\"        \"Action, Drama, Sci-Fi\"       \n",
              "[19] \"Horror\"                       \"Crime, Drama, Thriller\"      \n",
              "[21] \"Horror, Thriller\"             \"Animation, Adventure, Comedy\"\n",
              "[23] \"Drama, Horror, Sci-Fi\"        \"Comedy, Music\"               \n",
              "[25] \"Drama, Mystery, Thriller\"     \"Action, Comedy, Crime\"       \n",
              "[27] \"Action, Crime, Drama\"         \"Drama, Sport\"                \n",
              "[29] \"Action, Crime, Thriller\"      \"Drama, Sci-Fi, Thriller\"     "
            ]
          },
          "metadata": {}
        }
      ]
    },
    {
      "cell_type": "code",
      "source": [
        "# Extracting the movies' user ratings\n",
        "user_ratings  <- wp_content %>%\n",
        "  html_nodes(\".ratings-imdb-rating strong\") %>%\n",
        "  html_text()\n",
        "user_ratings"
      ],
      "metadata": {
        "colab": {
          "base_uri": "https://localhost:8080/",
          "height": 34
        },
        "id": "KSMDevp8Dxv-",
        "outputId": "ca2c2645-490e-4bb8-b6c9-f67fbe5faadb"
      },
      "execution_count": null,
      "outputs": [
        {
          "output_type": "display_data",
          "data": {
            "text/html": [
              "<style>\n",
              ".list-inline {list-style: none; margin:0; padding: 0}\n",
              ".list-inline>li {display: inline-block}\n",
              ".list-inline>li:not(:last-child)::after {content: \"\\00b7\"; padding: 0 .5ex}\n",
              "</style>\n",
              "<ol class=list-inline><li>'5.5'</li><li>'7.2'</li><li>'6.3'</li><li>'6.1'</li><li>'6.0'</li><li>'5.3'</li><li>'6.5'</li><li>'5.5'</li><li>'8.6'</li><li>'6.6'</li><li>'6.4'</li><li>'6.8'</li><li>'6.7'</li><li>'5.4'</li><li>'7.0'</li><li>'7.1'</li><li>'5.7'</li><li>'6.2'</li><li>'5.9'</li><li>'5.7'</li><li>'6.1'</li><li>'6.4'</li><li>'6.5'</li><li>'5.5'</li><li>'6.2'</li><li>'4.7'</li><li>'6.7'</li><li>'6.1'</li><li>'6.3'</li></ol>\n"
            ],
            "text/markdown": "1. '5.5'\n2. '7.2'\n3. '6.3'\n4. '6.1'\n5. '6.0'\n6. '5.3'\n7. '6.5'\n8. '5.5'\n9. '8.6'\n10. '6.6'\n11. '6.4'\n12. '6.8'\n13. '6.7'\n14. '5.4'\n15. '7.0'\n16. '7.1'\n17. '5.7'\n18. '6.2'\n19. '5.9'\n20. '5.7'\n21. '6.1'\n22. '6.4'\n23. '6.5'\n24. '5.5'\n25. '6.2'\n26. '4.7'\n27. '6.7'\n28. '6.1'\n29. '6.3'\n\n\n",
            "text/latex": "\\begin{enumerate*}\n\\item '5.5'\n\\item '7.2'\n\\item '6.3'\n\\item '6.1'\n\\item '6.0'\n\\item '5.3'\n\\item '6.5'\n\\item '5.5'\n\\item '8.6'\n\\item '6.6'\n\\item '6.4'\n\\item '6.8'\n\\item '6.7'\n\\item '5.4'\n\\item '7.0'\n\\item '7.1'\n\\item '5.7'\n\\item '6.2'\n\\item '5.9'\n\\item '5.7'\n\\item '6.1'\n\\item '6.4'\n\\item '6.5'\n\\item '5.5'\n\\item '6.2'\n\\item '4.7'\n\\item '6.7'\n\\item '6.1'\n\\item '6.3'\n\\end{enumerate*}\n",
            "text/plain": [
              " [1] \"5.5\" \"7.2\" \"6.3\" \"6.1\" \"6.0\" \"5.3\" \"6.5\" \"5.5\" \"8.6\" \"6.6\" \"6.4\" \"6.8\"\n",
              "[13] \"6.7\" \"5.4\" \"7.0\" \"7.1\" \"5.7\" \"6.2\" \"5.9\" \"5.7\" \"6.1\" \"6.4\" \"6.5\" \"5.5\"\n",
              "[25] \"6.2\" \"4.7\" \"6.7\" \"6.1\" \"6.3\""
            ]
          },
          "metadata": {}
        }
      ]
    },
    {
      "cell_type": "code",
      "source": [
        "# Converting the user rating from character to numeric data type\n",
        "user_ratings <- as.numeric(user_ratings)\n",
        "user_ratings"
      ],
      "metadata": {
        "colab": {
          "base_uri": "https://localhost:8080/",
          "height": 34
        },
        "id": "bVw5j0PKIpGu",
        "outputId": "51229dc3-7a21-473d-ab6b-d8860fd2edcc"
      },
      "execution_count": null,
      "outputs": [
        {
          "output_type": "display_data",
          "data": {
            "text/html": [
              "<style>\n",
              ".list-inline {list-style: none; margin:0; padding: 0}\n",
              ".list-inline>li {display: inline-block}\n",
              ".list-inline>li:not(:last-child)::after {content: \"\\00b7\"; padding: 0 .5ex}\n",
              "</style>\n",
              "<ol class=list-inline><li>5.5</li><li>7.2</li><li>6.3</li><li>6.1</li><li>6</li><li>5.3</li><li>6.5</li><li>5.5</li><li>8.6</li><li>6.6</li><li>6.4</li><li>6.8</li><li>6.7</li><li>5.4</li><li>7</li><li>7.1</li><li>5.7</li><li>6.2</li><li>5.9</li><li>5.7</li><li>6.1</li><li>6.4</li><li>6.5</li><li>5.5</li><li>6.2</li><li>4.7</li><li>6.7</li><li>6.1</li><li>6.3</li></ol>\n"
            ],
            "text/markdown": "1. 5.5\n2. 7.2\n3. 6.3\n4. 6.1\n5. 6\n6. 5.3\n7. 6.5\n8. 5.5\n9. 8.6\n10. 6.6\n11. 6.4\n12. 6.8\n13. 6.7\n14. 5.4\n15. 7\n16. 7.1\n17. 5.7\n18. 6.2\n19. 5.9\n20. 5.7\n21. 6.1\n22. 6.4\n23. 6.5\n24. 5.5\n25. 6.2\n26. 4.7\n27. 6.7\n28. 6.1\n29. 6.3\n\n\n",
            "text/latex": "\\begin{enumerate*}\n\\item 5.5\n\\item 7.2\n\\item 6.3\n\\item 6.1\n\\item 6\n\\item 5.3\n\\item 6.5\n\\item 5.5\n\\item 8.6\n\\item 6.6\n\\item 6.4\n\\item 6.8\n\\item 6.7\n\\item 5.4\n\\item 7\n\\item 7.1\n\\item 5.7\n\\item 6.2\n\\item 5.9\n\\item 5.7\n\\item 6.1\n\\item 6.4\n\\item 6.5\n\\item 5.5\n\\item 6.2\n\\item 4.7\n\\item 6.7\n\\item 6.1\n\\item 6.3\n\\end{enumerate*}\n",
            "text/plain": [
              " [1] 5.5 7.2 6.3 6.1 6.0 5.3 6.5 5.5 8.6 6.6 6.4 6.8 6.7 5.4 7.0 7.1 5.7 6.2 5.9\n",
              "[20] 5.7 6.1 6.4 6.5 5.5 6.2 4.7 6.7 6.1 6.3"
            ]
          },
          "metadata": {}
        }
      ]
    },
    {
      "cell_type": "code",
      "source": [
        "# Extracting the movies' metascores\n",
        "metascores  <- wp_content %>%\n",
        "  html_nodes(\".ratings-metascore .metascore\") %>%\n",
        "  html_text()\n",
        "metascores"
      ],
      "metadata": {
        "colab": {
          "base_uri": "https://localhost:8080/",
          "height": 52
        },
        "id": "rwLo5sy5Dxtm",
        "outputId": "efb76b82-b7ec-440c-bc7d-ca98f7a3e658"
      },
      "execution_count": null,
      "outputs": [
        {
          "output_type": "display_data",
          "data": {
            "text/html": [
              "<style>\n",
              ".list-inline {list-style: none; margin:0; padding: 0}\n",
              ".list-inline>li {display: inline-block}\n",
              ".list-inline>li:not(:last-child)::after {content: \"\\00b7\"; padding: 0 .5ex}\n",
              "</style>\n",
              "<ol class=list-inline><li><span style=white-space:pre-wrap>'66        '</span></li><li><span style=white-space:pre-wrap>'40        '</span></li><li><span style=white-space:pre-wrap>'39        '</span></li><li><span style=white-space:pre-wrap>'50        '</span></li><li><span style=white-space:pre-wrap>'38        '</span></li><li><span style=white-space:pre-wrap>'90        '</span></li><li><span style=white-space:pre-wrap>'70        '</span></li><li><span style=white-space:pre-wrap>'32        '</span></li><li><span style=white-space:pre-wrap>'71        '</span></li><li><span style=white-space:pre-wrap>'56        '</span></li><li><span style=white-space:pre-wrap>'51        '</span></li><li><span style=white-space:pre-wrap>'64        '</span></li><li><span style=white-space:pre-wrap>'67        '</span></li><li><span style=white-space:pre-wrap>'44        '</span></li><li><span style=white-space:pre-wrap>'72        '</span></li><li><span style=white-space:pre-wrap>'55        '</span></li><li><span style=white-space:pre-wrap>'63        '</span></li><li><span style=white-space:pre-wrap>'51        '</span></li><li><span style=white-space:pre-wrap>'61        '</span></li><li><span style=white-space:pre-wrap>'50        '</span></li><li><span style=white-space:pre-wrap>'31        '</span></li><li><span style=white-space:pre-wrap>'49        '</span></li><li><span style=white-space:pre-wrap>'22        '</span></li><li><span style=white-space:pre-wrap>'66        '</span></li><li><span style=white-space:pre-wrap>'67        '</span></li></ol>\n"
            ],
            "text/markdown": "1. <span style=white-space:pre-wrap>'66        '</span>\n2. <span style=white-space:pre-wrap>'40        '</span>\n3. <span style=white-space:pre-wrap>'39        '</span>\n4. <span style=white-space:pre-wrap>'50        '</span>\n5. <span style=white-space:pre-wrap>'38        '</span>\n6. <span style=white-space:pre-wrap>'90        '</span>\n7. <span style=white-space:pre-wrap>'70        '</span>\n8. <span style=white-space:pre-wrap>'32        '</span>\n9. <span style=white-space:pre-wrap>'71        '</span>\n10. <span style=white-space:pre-wrap>'56        '</span>\n11. <span style=white-space:pre-wrap>'51        '</span>\n12. <span style=white-space:pre-wrap>'64        '</span>\n13. <span style=white-space:pre-wrap>'67        '</span>\n14. <span style=white-space:pre-wrap>'44        '</span>\n15. <span style=white-space:pre-wrap>'72        '</span>\n16. <span style=white-space:pre-wrap>'55        '</span>\n17. <span style=white-space:pre-wrap>'63        '</span>\n18. <span style=white-space:pre-wrap>'51        '</span>\n19. <span style=white-space:pre-wrap>'61        '</span>\n20. <span style=white-space:pre-wrap>'50        '</span>\n21. <span style=white-space:pre-wrap>'31        '</span>\n22. <span style=white-space:pre-wrap>'49        '</span>\n23. <span style=white-space:pre-wrap>'22        '</span>\n24. <span style=white-space:pre-wrap>'66        '</span>\n25. <span style=white-space:pre-wrap>'67        '</span>\n\n\n",
            "text/latex": "\\begin{enumerate*}\n\\item '66        '\n\\item '40        '\n\\item '39        '\n\\item '50        '\n\\item '38        '\n\\item '90        '\n\\item '70        '\n\\item '32        '\n\\item '71        '\n\\item '56        '\n\\item '51        '\n\\item '64        '\n\\item '67        '\n\\item '44        '\n\\item '72        '\n\\item '55        '\n\\item '63        '\n\\item '51        '\n\\item '61        '\n\\item '50        '\n\\item '31        '\n\\item '49        '\n\\item '22        '\n\\item '66        '\n\\item '67        '\n\\end{enumerate*}\n",
            "text/plain": [
              " [1] \"66        \" \"40        \" \"39        \" \"50        \" \"38        \"\n",
              " [6] \"90        \" \"70        \" \"32        \" \"71        \" \"56        \"\n",
              "[11] \"51        \" \"64        \" \"67        \" \"44        \" \"72        \"\n",
              "[16] \"55        \" \"63        \" \"51        \" \"61        \" \"50        \"\n",
              "[21] \"31        \" \"49        \" \"22        \" \"66        \" \"67        \""
            ]
          },
          "metadata": {}
        }
      ]
    },
    {
      "cell_type": "code",
      "source": [
        "# Removing whitespaces at the end of metascores and converting them into numeric\n",
        "metascores <- stringr::str_trim(metascores)\n",
        "metascores <- as.numeric(metascores)\n",
        "metascores"
      ],
      "metadata": {
        "colab": {
          "base_uri": "https://localhost:8080/",
          "height": 34
        },
        "id": "iI3t8YeCDxGm",
        "outputId": "a083fdbb-9aca-4cdb-9bb0-d8622ed00f8d"
      },
      "execution_count": null,
      "outputs": [
        {
          "output_type": "display_data",
          "data": {
            "text/html": [
              "<style>\n",
              ".list-inline {list-style: none; margin:0; padding: 0}\n",
              ".list-inline>li {display: inline-block}\n",
              ".list-inline>li:not(:last-child)::after {content: \"\\00b7\"; padding: 0 .5ex}\n",
              "</style>\n",
              "<ol class=list-inline><li>66</li><li>40</li><li>39</li><li>50</li><li>38</li><li>90</li><li>70</li><li>32</li><li>71</li><li>56</li><li>51</li><li>64</li><li>67</li><li>44</li><li>72</li><li>55</li><li>63</li><li>51</li><li>61</li><li>50</li><li>31</li><li>49</li><li>22</li><li>66</li><li>67</li></ol>\n"
            ],
            "text/markdown": "1. 66\n2. 40\n3. 39\n4. 50\n5. 38\n6. 90\n7. 70\n8. 32\n9. 71\n10. 56\n11. 51\n12. 64\n13. 67\n14. 44\n15. 72\n16. 55\n17. 63\n18. 51\n19. 61\n20. 50\n21. 31\n22. 49\n23. 22\n24. 66\n25. 67\n\n\n",
            "text/latex": "\\begin{enumerate*}\n\\item 66\n\\item 40\n\\item 39\n\\item 50\n\\item 38\n\\item 90\n\\item 70\n\\item 32\n\\item 71\n\\item 56\n\\item 51\n\\item 64\n\\item 67\n\\item 44\n\\item 72\n\\item 55\n\\item 63\n\\item 51\n\\item 61\n\\item 50\n\\item 31\n\\item 49\n\\item 22\n\\item 66\n\\item 67\n\\end{enumerate*}\n",
            "text/plain": [
              " [1] 66 40 39 50 38 90 70 32 71 56 51 64 67 44 72 55 63 51 61 50 31 49 22 66 67"
            ]
          },
          "metadata": {}
        }
      ]
    },
    {
      "cell_type": "code",
      "source": [
        "# Extracting the movies' votes\n",
        "votes  <- wp_content %>%\n",
        "  html_nodes(\".sort-num_votes-visible :nth-child(2)\") %>%\n",
        "  html_text()\n",
        "votes"
      ],
      "metadata": {
        "colab": {
          "base_uri": "https://localhost:8080/",
          "height": 52
        },
        "id": "YuVVG3fQJE9u",
        "outputId": "c6bc959d-d251-4b07-b7ad-9332360caa82"
      },
      "execution_count": null,
      "outputs": [
        {
          "output_type": "display_data",
          "data": {
            "text/html": [
              "<style>\n",
              ".list-inline {list-style: none; margin:0; padding: 0}\n",
              ".list-inline>li {display: inline-block}\n",
              ".list-inline>li:not(:last-child)::after {content: \"\\00b7\"; padding: 0 .5ex}\n",
              "</style>\n",
              "<ol class=list-inline><li>'80,231'</li><li>'6,559'</li><li>'27,482'</li><li>'4,879'</li><li>'25,316'</li><li>'20,882'</li><li>'62,277'</li><li>'4,886'</li><li>'48,663'</li><li>'117,211'</li><li>'5,420'</li><li>'17,001'</li><li>'151,319'</li><li>'16,815'</li><li>'60,885'</li><li>'29,278'</li><li>'57,763'</li><li>'3,701'</li><li>'7,951'</li><li>'13,965'</li><li>'14,792'</li><li>'10,516'</li><li>'69,186'</li><li>'7,837'</li><li>'65,768'</li><li>'7,416'</li><li>'28,300'</li><li>'9,355'</li><li>'9,271'</li></ol>\n"
            ],
            "text/markdown": "1. '80,231'\n2. '6,559'\n3. '27,482'\n4. '4,879'\n5. '25,316'\n6. '20,882'\n7. '62,277'\n8. '4,886'\n9. '48,663'\n10. '117,211'\n11. '5,420'\n12. '17,001'\n13. '151,319'\n14. '16,815'\n15. '60,885'\n16. '29,278'\n17. '57,763'\n18. '3,701'\n19. '7,951'\n20. '13,965'\n21. '14,792'\n22. '10,516'\n23. '69,186'\n24. '7,837'\n25. '65,768'\n26. '7,416'\n27. '28,300'\n28. '9,355'\n29. '9,271'\n\n\n",
            "text/latex": "\\begin{enumerate*}\n\\item '80,231'\n\\item '6,559'\n\\item '27,482'\n\\item '4,879'\n\\item '25,316'\n\\item '20,882'\n\\item '62,277'\n\\item '4,886'\n\\item '48,663'\n\\item '117,211'\n\\item '5,420'\n\\item '17,001'\n\\item '151,319'\n\\item '16,815'\n\\item '60,885'\n\\item '29,278'\n\\item '57,763'\n\\item '3,701'\n\\item '7,951'\n\\item '13,965'\n\\item '14,792'\n\\item '10,516'\n\\item '69,186'\n\\item '7,837'\n\\item '65,768'\n\\item '7,416'\n\\item '28,300'\n\\item '9,355'\n\\item '9,271'\n\\end{enumerate*}\n",
            "text/plain": [
              " [1] \"80,231\"  \"6,559\"   \"27,482\"  \"4,879\"   \"25,316\"  \"20,882\"  \"62,277\" \n",
              " [8] \"4,886\"   \"48,663\"  \"117,211\" \"5,420\"   \"17,001\"  \"151,319\" \"16,815\" \n",
              "[15] \"60,885\"  \"29,278\"  \"57,763\"  \"3,701\"   \"7,951\"   \"13,965\"  \"14,792\" \n",
              "[22] \"10,516\"  \"69,186\"  \"7,837\"   \"65,768\"  \"7,416\"   \"28,300\"  \"9,355\"  \n",
              "[29] \"9,271\"  "
            ]
          },
          "metadata": {}
        }
      ]
    },
    {
      "cell_type": "code",
      "source": [
        "# Converting the vote from character to numeric data type\n",
        "votes <- readr::parse_number(votes)\n",
        "votes"
      ],
      "metadata": {
        "colab": {
          "base_uri": "https://localhost:8080/",
          "height": 34
        },
        "id": "iVvnlS-tJE7X",
        "outputId": "6e42a619-68e9-4b3c-9688-259258ebb887"
      },
      "execution_count": null,
      "outputs": [
        {
          "output_type": "display_data",
          "data": {
            "text/html": [
              "<style>\n",
              ".list-inline {list-style: none; margin:0; padding: 0}\n",
              ".list-inline>li {display: inline-block}\n",
              ".list-inline>li:not(:last-child)::after {content: \"\\00b7\"; padding: 0 .5ex}\n",
              "</style>\n",
              "<ol class=list-inline><li>80231</li><li>6559</li><li>27482</li><li>4879</li><li>25316</li><li>20882</li><li>62277</li><li>4886</li><li>48663</li><li>117211</li><li>5420</li><li>17001</li><li>151319</li><li>16815</li><li>60885</li><li>29278</li><li>57763</li><li>3701</li><li>7951</li><li>13965</li><li>14792</li><li>10516</li><li>69186</li><li>7837</li><li>65768</li><li>7416</li><li>28300</li><li>9355</li><li>9271</li></ol>\n"
            ],
            "text/markdown": "1. 80231\n2. 6559\n3. 27482\n4. 4879\n5. 25316\n6. 20882\n7. 62277\n8. 4886\n9. 48663\n10. 117211\n11. 5420\n12. 17001\n13. 151319\n14. 16815\n15. 60885\n16. 29278\n17. 57763\n18. 3701\n19. 7951\n20. 13965\n21. 14792\n22. 10516\n23. 69186\n24. 7837\n25. 65768\n26. 7416\n27. 28300\n28. 9355\n29. 9271\n\n\n",
            "text/latex": "\\begin{enumerate*}\n\\item 80231\n\\item 6559\n\\item 27482\n\\item 4879\n\\item 25316\n\\item 20882\n\\item 62277\n\\item 4886\n\\item 48663\n\\item 117211\n\\item 5420\n\\item 17001\n\\item 151319\n\\item 16815\n\\item 60885\n\\item 29278\n\\item 57763\n\\item 3701\n\\item 7951\n\\item 13965\n\\item 14792\n\\item 10516\n\\item 69186\n\\item 7837\n\\item 65768\n\\item 7416\n\\item 28300\n\\item 9355\n\\item 9271\n\\end{enumerate*}\n",
            "text/plain": [
              " [1]  80231   6559  27482   4879  25316  20882  62277   4886  48663 117211\n",
              "[11]   5420  17001 151319  16815  60885  29278  57763   3701   7951  13965\n",
              "[21]  14792  10516  69186   7837  65768   7416  28300   9355   9271"
            ]
          },
          "metadata": {}
        }
      ]
    },
    {
      "cell_type": "code",
      "source": [
        "# copying the append_vector function in our work space\n",
        "append_vector <- function(vector, inserted_indices, values){\n",
        "\n",
        "  ## Creating the current indices of the vector\n",
        "  vector_current_indices <- 1:length(vector)\n",
        "\n",
        "  ## Adding small amount of values (between 0 and 0.9) to the `inserted_indices`\n",
        "  new_inserted_indices <- inserted_indices + seq(0, 0.9, length.out = length(inserted_indices))\n",
        "\n",
        "  ## Appending the `new_inserted_indices` to the current vector indices\n",
        "  indices <- c(vector_current_indices, new_inserted_indices)\n",
        "\n",
        "  ## Ordering the indices\n",
        "  ordered_indices <- order(indices)\n",
        "\n",
        "  ## Appending the new value to the existing vector\n",
        "  new_vector <- c(vector, values)\n",
        "\n",
        "  ## Ordering the new vector wrt the ordered indices\n",
        "  new_vector[ordered_indices]\n",
        "}"
      ],
      "metadata": {
        "id": "cxyxRhL6JE4-"
      },
      "execution_count": null,
      "outputs": []
    },
    {
      "cell_type": "code",
      "source": [
        "# Using the `append_vector()` function to insert `NA` into the missing metascore values\n",
        "metascores <- append_vector(metascores, c(1, 1, 1, 13, 24), NA)\n",
        "metascores"
      ],
      "metadata": {
        "colab": {
          "base_uri": "https://localhost:8080/",
          "height": 34
        },
        "id": "DDZNVdu9JE2V",
        "outputId": "5d79fc9f-0751-487c-c4f0-3195edf02b47"
      },
      "execution_count": null,
      "outputs": [
        {
          "output_type": "display_data",
          "data": {
            "text/html": [
              "<style>\n",
              ".list-inline {list-style: none; margin:0; padding: 0}\n",
              ".list-inline>li {display: inline-block}\n",
              ".list-inline>li:not(:last-child)::after {content: \"\\00b7\"; padding: 0 .5ex}\n",
              "</style>\n",
              "<ol class=list-inline><li>66</li><li>&lt;NA&gt;</li><li>&lt;NA&gt;</li><li>&lt;NA&gt;</li><li>40</li><li>39</li><li>50</li><li>38</li><li>90</li><li>70</li><li>32</li><li>71</li><li>56</li><li>51</li><li>64</li><li>67</li><li>&lt;NA&gt;</li><li>44</li><li>72</li><li>55</li><li>63</li><li>51</li><li>61</li><li>50</li><li>31</li><li>49</li><li>22</li><li>66</li><li>&lt;NA&gt;</li><li>67</li></ol>\n"
            ],
            "text/markdown": "1. 66\n2. &lt;NA&gt;\n3. &lt;NA&gt;\n4. &lt;NA&gt;\n5. 40\n6. 39\n7. 50\n8. 38\n9. 90\n10. 70\n11. 32\n12. 71\n13. 56\n14. 51\n15. 64\n16. 67\n17. &lt;NA&gt;\n18. 44\n19. 72\n20. 55\n21. 63\n22. 51\n23. 61\n24. 50\n25. 31\n26. 49\n27. 22\n28. 66\n29. &lt;NA&gt;\n30. 67\n\n\n",
            "text/latex": "\\begin{enumerate*}\n\\item 66\n\\item <NA>\n\\item <NA>\n\\item <NA>\n\\item 40\n\\item 39\n\\item 50\n\\item 38\n\\item 90\n\\item 70\n\\item 32\n\\item 71\n\\item 56\n\\item 51\n\\item 64\n\\item 67\n\\item <NA>\n\\item 44\n\\item 72\n\\item 55\n\\item 63\n\\item 51\n\\item 61\n\\item 50\n\\item 31\n\\item 49\n\\item 22\n\\item 66\n\\item <NA>\n\\item 67\n\\end{enumerate*}\n",
            "text/plain": [
              " [1] 66 NA NA NA 40 39 50 38 90 70 32 71 56 51 64 67 NA 44 72 55 63 51 61 50 31\n",
              "[26] 49 22 66 NA 67"
            ]
          },
          "metadata": {}
        }
      ]
    },
    {
      "cell_type": "code",
      "source": [
        "# Removing the 17th element from titles, years, runtimes, genres, and metascores\n",
        "titles <- titles[-17]\n",
        "years <- years[-17]\n",
        "runtimes <- runtimes[-17]\n",
        "genres <- genres[-17]\n",
        "metascores <- metascores[-17]"
      ],
      "metadata": {
        "id": "RLckqpWhJEvX"
      },
      "execution_count": null,
      "outputs": []
    },
    {
      "cell_type": "code",
      "source": [
        "# Creating a dataframe from the scraped data\n",
        "movie_df <- tibble::tibble(\"title\" = titles,\n",
        "                           \"year\" = years,\n",
        "                           \"runtime\" = runtimes,\n",
        "                           \"genre\" = genres,\n",
        "                           \"rating\" = floor(user_ratings),\n",
        "                           \"metascore\" = metascores,\n",
        "                           \"vote\" = votes)"
      ],
      "metadata": {
        "id": "t49mLgA9QvSO"
      },
      "execution_count": null,
      "outputs": []
    },
    {
      "cell_type": "code",
      "source": [
        "# Creating a boxplot that show the number of vote again the user rating\n",
        "ggplot(data = movie_df,\n",
        "       aes(x = rating, y = vote, group = rating)) +\n",
        "  geom_boxplot()"
      ],
      "metadata": {
        "colab": {
          "base_uri": "https://localhost:8080/",
          "height": 437
        },
        "id": "aU0hX1wvXBTH",
        "outputId": "49b84a80-bfa5-44be-ecdb-fb9b55debeb9"
      },
      "execution_count": null,
      "outputs": [
        {
          "output_type": "display_data",
          "data": {
            "text/plain": [
              "plot without title"
            ],
            "image/png": "[encoded data removed]"
          },
          "metadata": {
            "image/png": {
              "width": 420,
              "height": 420
            }
          }
        }
      ]
    },
    {
      "cell_type": "markdown",
      "source": [
        "As we can see from the graph, as the number of votes increase so does the user rating."
      ],
      "metadata": {
        "id": "kg5LqZ5OYmZo"
      }
    }
  ]
}